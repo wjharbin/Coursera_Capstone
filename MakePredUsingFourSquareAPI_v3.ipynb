{
 "cells": [
  {
   "cell_type": "markdown",
   "metadata": {
    "button": false,
    "deletable": true,
    "new_sheet": false,
    "run_control": {
     "read_only": false
    }
   },
   "source": [
    "<a href=\"https://cognitiveclass.ai\"><img src = \"https://ibm.box.com/shared/static/9gegpsmnsoo25ikkbl4qzlvlyjbgxs5x.png\" width = 400> </a>\n",
    "\n",
    "<h1 align=center><font size = 5>Making Predictions Using FourSquare and DOHMH Data with Python</font></h1>"
   ]
  },
  {
   "cell_type": "markdown",
   "metadata": {
    "button": false,
    "deletable": true,
    "new_sheet": false,
    "run_control": {
     "read_only": false
    }
   },
   "source": [
    "   "
   ]
  },
  {
   "cell_type": "markdown",
   "metadata": {
    "button": false,
    "deletable": true,
    "new_sheet": false,
    "run_control": {
     "read_only": false
    }
   },
   "source": [
    "## Introduction\n",
    "\n",
    "In this work, I used the NYC DOHMH restaurant inspection report to get the data such as inspection score and critical flag (Y/N) for the Italian restaurants in Mahattan. Critical Flag indicates if there are critical violations. In addition, the report also includes the latitude and longitude data of the restaurants. With these latitude/longitude data, I searched for the customers ratings via Foursquare database. After collecting the ratings data, I combined the datasets and then developed a model using Logistic Regression method. The model presented find evaluation results. To be clear, my goal is to use the inspection score and customers ratings to make prediction of occurrence of critical violation in the restaurants of interests. "
   ]
  },
  {
   "cell_type": "markdown",
   "metadata": {
    "button": false,
    "deletable": true,
    "new_sheet": false,
    "run_control": {
     "read_only": false
    }
   },
   "source": [
    "## Table of Contents\n",
    "\n",
    "1. <a href=\"#item1\">Data Preparation</a>\n",
    "2. <a href=\"#item2\">Search Ratings through Foursquare API</a>  \n",
    "3. <a href=\"#item3\">Model Using Logistic Regressionr</a>  \n",
    "4. <a href=\"#item4\">Evaluation Resuts</a>  "
   ]
  },
  {
   "cell_type": "markdown",
   "metadata": {
    "button": false,
    "deletable": true,
    "new_sheet": false,
    "run_control": {
     "read_only": false
    }
   },
   "source": [
    "## 1. Data Preparation\n",
    "### Import necessary Libraries"
   ]
  },
  {
   "cell_type": "code",
   "execution_count": 1,
   "metadata": {
    "button": false,
    "collapsed": true,
    "deletable": true,
    "jupyter": {
     "outputs_hidden": true
    },
    "new_sheet": false,
    "run_control": {
     "read_only": false
    }
   },
   "outputs": [
    {
     "name": "stdout",
     "output_type": "stream",
     "text": [
      "Collecting package metadata (current_repodata.json): done\n",
      "Solving environment: done\n",
      "\n",
      "## Package Plan ##\n",
      "\n",
      "  environment location: /home/jupyterlab/conda/envs/python\n",
      "\n",
      "  added / updated specs:\n",
      "    - geopy\n",
      "\n",
      "\n",
      "The following packages will be downloaded:\n",
      "\n",
      "    package                    |            build\n",
      "    ---------------------------|-----------------\n",
      "    geographiclib-1.50         |             py_0          34 KB  conda-forge\n",
      "    geopy-1.22.0               |     pyh9f0ad1d_0          63 KB  conda-forge\n",
      "    ------------------------------------------------------------\n",
      "                                           Total:          97 KB\n",
      "\n",
      "The following NEW packages will be INSTALLED:\n",
      "\n",
      "  geographiclib      conda-forge/noarch::geographiclib-1.50-py_0\n",
      "  geopy              conda-forge/noarch::geopy-1.22.0-pyh9f0ad1d_0\n",
      "\n",
      "\n",
      "\n",
      "Downloading and Extracting Packages\n",
      "geopy-1.22.0         | 63 KB     | ##################################### | 100% \n",
      "geographiclib-1.50   | 34 KB     | ##################################### | 100% \n",
      "Preparing transaction: done\n",
      "Verifying transaction: done\n",
      "Executing transaction: done\n"
     ]
    }
   ],
   "source": [
    "import requests # library to handle requests\n",
    "import pandas as pd # library for data analsysis\n",
    "import numpy as np # library to handle data in a vectorized manner\n",
    "import random # library for random number generation\n",
    "\n",
    "!conda install -c conda-forge geopy --yes \n",
    "from geopy.geocoders import Nominatim # module to convert an address into latitude and longitude values\n",
    "\n",
    "# libraries for displaying images\n",
    "from IPython.display import Image \n",
    "from IPython.core.display import HTML \n",
    "    \n",
    "# tranforming json file into a pandas dataframe library\n",
    "from pandas.io.json import json_normalize\n",
    "\n",
    "#!conda install -c conda-forge folium=0.5.0 --yes\n",
    "#import folium # plotting library\n",
    "\n",
    "#print('Folium installed')\n",
    "#print('Libraries imported.')"
   ]
  },
  {
   "cell_type": "markdown",
   "metadata": {
    "button": false,
    "deletable": true,
    "new_sheet": false,
    "run_control": {
     "read_only": false
    }
   },
   "source": [
    "### Define Foursquare Credentials and Version"
   ]
  },
  {
   "cell_type": "markdown",
   "metadata": {
    "button": false,
    "deletable": true,
    "new_sheet": false,
    "run_control": {
     "read_only": false
    }
   },
   "source": [
    "##### Make sure that you have created a Foursquare developer account and have your credentials handy"
   ]
  },
  {
   "cell_type": "code",
   "execution_count": 2,
   "metadata": {
    "button": false,
    "collapsed": false,
    "deletable": true,
    "jupyter": {
     "outputs_hidden": false
    },
    "new_sheet": false,
    "run_control": {
     "read_only": false
    }
   },
   "outputs": [
    {
     "name": "stdout",
     "output_type": "stream",
     "text": [
      "Your credentails:\n",
      "CLIENT_ID: MQXS0P5VD545NDHRISOYUIVGKI4TCLDFMYKTXE3TTGPXMBPW\n",
      "CLIENT_SECRET:RLYYI0A1IKQXLI3FEICSI3TGQ5OAUFPIYT1EURKOFMPIIGTP\n"
     ]
    }
   ],
   "source": [
    "CLIENT_ID = 'MQXS0P5VD545NDHRISOYUIVGKI4TCLDFMYKTXE3TTGPXMBPW' # your Foursquare ID\n",
    "CLIENT_SECRET = 'RLYYI0A1IKQXLI3FEICSI3TGQ5OAUFPIYT1EURKOFMPIIGTP' # your Foursquare Secret\n",
    "VERSION = '20200515'\n",
    "LIMIT = 2\n",
    "print('Your credentails:')\n",
    "print('CLIENT_ID: ' + CLIENT_ID)\n",
    "print('CLIENT_SECRET:' + CLIENT_SECRET)"
   ]
  },
  {
   "cell_type": "markdown",
   "metadata": {
    "button": false,
    "deletable": true,
    "new_sheet": false,
    "run_control": {
     "read_only": false
    }
   },
   "source": [
    "  "
   ]
  },
  {
   "cell_type": "markdown",
   "metadata": {
    "button": false,
    "deletable": true,
    "new_sheet": false,
    "run_control": {
     "read_only": false
    }
   },
   "source": [
    "#### Read Inspection Data Report by the New York City DOHMH.  "
   ]
  },
  {
   "cell_type": "code",
   "execution_count": 100,
   "metadata": {
    "button": false,
    "deletable": true,
    "new_sheet": false,
    "run_control": {
     "read_only": false
    }
   },
   "outputs": [
    {
     "data": {
      "text/html": [
       "<div>\n",
       "<style scoped>\n",
       "    .dataframe tbody tr th:only-of-type {\n",
       "        vertical-align: middle;\n",
       "    }\n",
       "\n",
       "    .dataframe tbody tr th {\n",
       "        vertical-align: top;\n",
       "    }\n",
       "\n",
       "    .dataframe thead th {\n",
       "        text-align: right;\n",
       "    }\n",
       "</style>\n",
       "<table border=\"1\" class=\"dataframe\">\n",
       "  <thead>\n",
       "    <tr style=\"text-align: right;\">\n",
       "      <th></th>\n",
       "      <th>BORO</th>\n",
       "      <th>ZIPCODE</th>\n",
       "      <th>CUISINE DESCRIPTION</th>\n",
       "      <th>Critical Flag</th>\n",
       "      <th>Score</th>\n",
       "      <th>Latitude</th>\n",
       "      <th>Longitude</th>\n",
       "    </tr>\n",
       "  </thead>\n",
       "  <tbody>\n",
       "    <tr>\n",
       "      <th>0</th>\n",
       "      <td>Queens</td>\n",
       "      <td>11103</td>\n",
       "      <td>Italian</td>\n",
       "      <td>Y</td>\n",
       "      <td>96</td>\n",
       "      <td>40.764675</td>\n",
       "      <td>-73.911974</td>\n",
       "    </tr>\n",
       "    <tr>\n",
       "      <th>1</th>\n",
       "      <td>Bronx</td>\n",
       "      <td>10451</td>\n",
       "      <td>Italian</td>\n",
       "      <td>N</td>\n",
       "      <td>85</td>\n",
       "      <td>40.819300</td>\n",
       "      <td>-73.926971</td>\n",
       "    </tr>\n",
       "    <tr>\n",
       "      <th>2</th>\n",
       "      <td>Manhattan</td>\n",
       "      <td>10013</td>\n",
       "      <td>Italian</td>\n",
       "      <td>Y</td>\n",
       "      <td>71</td>\n",
       "      <td>40.717778</td>\n",
       "      <td>-73.998149</td>\n",
       "    </tr>\n",
       "    <tr>\n",
       "      <th>3</th>\n",
       "      <td>Manhattan</td>\n",
       "      <td>10014</td>\n",
       "      <td>Italian</td>\n",
       "      <td>Y</td>\n",
       "      <td>59</td>\n",
       "      <td>40.732186</td>\n",
       "      <td>-74.001537</td>\n",
       "    </tr>\n",
       "    <tr>\n",
       "      <th>4</th>\n",
       "      <td>Manhattan</td>\n",
       "      <td>10011</td>\n",
       "      <td>Italian</td>\n",
       "      <td>N</td>\n",
       "      <td>57</td>\n",
       "      <td>40.733953</td>\n",
       "      <td>-73.998586</td>\n",
       "    </tr>\n",
       "  </tbody>\n",
       "</table>\n",
       "</div>"
      ],
      "text/plain": [
       "        BORO  ZIPCODE CUISINE DESCRIPTION Critical Flag  Score   Latitude  \\\n",
       "0     Queens    11103             Italian             Y     96  40.764675   \n",
       "1      Bronx    10451             Italian             N     85  40.819300   \n",
       "2  Manhattan    10013             Italian             Y     71  40.717778   \n",
       "3  Manhattan    10014             Italian             Y     59  40.732186   \n",
       "4  Manhattan    10011             Italian             N     57  40.733953   \n",
       "\n",
       "   Longitude  \n",
       "0 -73.911974  \n",
       "1 -73.926971  \n",
       "2 -73.998149  \n",
       "3 -74.001537  \n",
       "4 -73.998586  "
      ]
     },
     "execution_count": 100,
     "metadata": {},
     "output_type": "execute_result"
    }
   ],
   "source": [
    "df=pd.read_csv('ItalianRestaurant_Inspection300_NYC.csv')\n",
    "df.head()"
   ]
  },
  {
   "cell_type": "code",
   "execution_count": 5,
   "metadata": {
    "button": false,
    "collapsed": false,
    "deletable": true,
    "jupyter": {
     "outputs_hidden": false
    },
    "new_sheet": false,
    "run_control": {
     "read_only": false
    }
   },
   "outputs": [
    {
     "name": "stdout",
     "output_type": "stream",
     "text": [
      "Total rows: 282\n"
     ]
    },
    {
     "data": {
      "text/html": [
       "<div>\n",
       "<style scoped>\n",
       "    .dataframe tbody tr th:only-of-type {\n",
       "        vertical-align: middle;\n",
       "    }\n",
       "\n",
       "    .dataframe tbody tr th {\n",
       "        vertical-align: top;\n",
       "    }\n",
       "\n",
       "    .dataframe thead th {\n",
       "        text-align: right;\n",
       "    }\n",
       "</style>\n",
       "<table border=\"1\" class=\"dataframe\">\n",
       "  <thead>\n",
       "    <tr style=\"text-align: right;\">\n",
       "      <th></th>\n",
       "      <th>BORO</th>\n",
       "      <th>ZIPCODE</th>\n",
       "      <th>CUISINE DESCRIPTION</th>\n",
       "      <th>Critical Flag</th>\n",
       "      <th>Score</th>\n",
       "      <th>Latitude</th>\n",
       "      <th>Longitude</th>\n",
       "    </tr>\n",
       "  </thead>\n",
       "  <tbody>\n",
       "    <tr>\n",
       "      <th>0</th>\n",
       "      <td>Manhattan</td>\n",
       "      <td>10001</td>\n",
       "      <td>Italian</td>\n",
       "      <td>1</td>\n",
       "      <td>38</td>\n",
       "      <td>40.748948</td>\n",
       "      <td>-73.995806</td>\n",
       "    </tr>\n",
       "    <tr>\n",
       "      <th>1</th>\n",
       "      <td>Manhattan</td>\n",
       "      <td>10002</td>\n",
       "      <td>Italian</td>\n",
       "      <td>1</td>\n",
       "      <td>27</td>\n",
       "      <td>40.716079</td>\n",
       "      <td>-73.987190</td>\n",
       "    </tr>\n",
       "    <tr>\n",
       "      <th>2</th>\n",
       "      <td>Manhattan</td>\n",
       "      <td>10002</td>\n",
       "      <td>Italian</td>\n",
       "      <td>0</td>\n",
       "      <td>38</td>\n",
       "      <td>40.721164</td>\n",
       "      <td>-73.983993</td>\n",
       "    </tr>\n",
       "    <tr>\n",
       "      <th>3</th>\n",
       "      <td>Manhattan</td>\n",
       "      <td>10002</td>\n",
       "      <td>Italian</td>\n",
       "      <td>0</td>\n",
       "      <td>23</td>\n",
       "      <td>40.716079</td>\n",
       "      <td>-73.987190</td>\n",
       "    </tr>\n",
       "    <tr>\n",
       "      <th>4</th>\n",
       "      <td>Manhattan</td>\n",
       "      <td>10002</td>\n",
       "      <td>Italian</td>\n",
       "      <td>0</td>\n",
       "      <td>37</td>\n",
       "      <td>40.720470</td>\n",
       "      <td>-73.989015</td>\n",
       "    </tr>\n",
       "  </tbody>\n",
       "</table>\n",
       "</div>"
      ],
      "text/plain": [
       "        BORO  ZIPCODE CUISINE DESCRIPTION  Critical Flag  Score   Latitude  \\\n",
       "0  Manhattan    10001             Italian              1     38  40.748948   \n",
       "1  Manhattan    10002             Italian              1     27  40.716079   \n",
       "2  Manhattan    10002             Italian              0     38  40.721164   \n",
       "3  Manhattan    10002             Italian              0     23  40.716079   \n",
       "4  Manhattan    10002             Italian              0     37  40.720470   \n",
       "\n",
       "   Longitude  \n",
       "0 -73.995806  \n",
       "1 -73.987190  \n",
       "2 -73.983993  \n",
       "3 -73.987190  \n",
       "4 -73.989015  "
      ]
     },
     "execution_count": 5,
     "metadata": {},
     "output_type": "execute_result"
    }
   ],
   "source": [
    "#remove the record with Score is larger than 50 that are rare and likely a mistake or typo\n",
    "df.drop(df[df['Score'] >= 50].index, inplace= True)\n",
    "\n",
    "#recalucate the score, consider the 50 is maximum. \n",
    "df['Score'] = df['Score'].apply(lambda x: 50-x)\n",
    "\n",
    "df.sort_values(['ZIPCODE'], ascending = True, inplace=True)\n",
    "\n",
    "df.reset_index(inplace=True, drop=True)\n",
    "\n",
    "for i in df.index:\n",
    "    Lat.append(df.loc[i][5])\n",
    "    Lon.append(df.loc[i][6])\n",
    "\n",
    "print(\"Total rows:\",len(Lat))\n",
    "df.head()"
   ]
  },
  {
   "cell_type": "markdown",
   "metadata": {
    "button": false,
    "deletable": true,
    "new_sheet": false,
    "run_control": {
     "read_only": false
    }
   },
   "source": [
    "   "
   ]
  },
  {
   "cell_type": "markdown",
   "metadata": {
    "button": false,
    "deletable": true,
    "new_sheet": false,
    "run_control": {
     "read_only": false
    }
   },
   "source": [
    "<a id=\"item1\"></a>"
   ]
  },
  {
   "cell_type": "markdown",
   "metadata": {
    "button": false,
    "deletable": true,
    "new_sheet": false,
    "run_control": {
     "read_only": false
    }
   },
   "source": [
    "## 2. Search Ratings through Foursquare API\n",
    "\n",
    "#### Define the corresponding URL and grab the ratings from Foursquare database based on latitude and longitude info\n",
    "> `https://api.foursquare.com/v2/venues/`**search**`?client_id=`**CLIENT_ID**`&client_secret=`**CLIENT_SECRET**`&ll=`**LATITUDE**`,`**LONGITUDE**`&v=`**VERSION**`&query=`**QUERY**`&radius=`**RADIUS**`&limit=`**LIMIT**"
   ]
  },
  {
   "cell_type": "code",
   "execution_count": 103,
   "metadata": {
    "button": false,
    "collapsed": false,
    "deletable": true,
    "jupyter": {
     "outputs_hidden": false
    },
    "new_sheet": false,
    "run_control": {
     "read_only": false
    },
    "scrolled": true
   },
   "outputs": [
    {
     "name": "stdout",
     "output_type": "stream",
     "text": [
      "Italian  .... OK!\n"
     ]
    }
   ],
   "source": [
    "search_query = 'Italian '\n",
    "radius = 100\n",
    "Ratings = []\n",
    "print(search_query + ' .... OK!')"
   ]
  },
  {
   "cell_type": "code",
   "execution_count": 102,
   "metadata": {
    "button": false,
    "collapsed": false,
    "deletable": true,
    "jupyter": {
     "outputs_hidden": false
    },
    "new_sheet": false,
    "run_control": {
     "read_only": false
    },
    "scrolled": true
   },
   "outputs": [],
   "source": [
    "# Be Careful on the Call Limit!!!\n",
    "\n",
    "# function that extracts the category of the venue\n",
    "def get_category_type(row):\n",
    "    try:\n",
    "        categories_list = row['categories']\n",
    "    except:\n",
    "        categories_list = row['venue.categories']\n",
    "        \n",
    "    if len(categories_list) == 0:\n",
    "        return None\n",
    "    else:\n",
    "        return categories_list[0]['name']\n",
    "\n",
    "\n",
    "for i in range(len(Lat)):\n",
    "\n",
    "    BackupRatings = Ratings\n",
    "    \n",
    "    latitude = Lat[i]\n",
    "    longitude = Lon[i]\n",
    "    \n",
    "    url = 'https://api.foursquare.com/v2/venues/search?client_id={}&client_secret={}&ll={},{}&v={}&query={}&radius={}&limit={}'.format(CLIENT_ID, CLIENT_SECRET, latitude, longitude, VERSION, search_query, radius, LIMIT)\n",
    "    #url\n",
    "    results = requests.get(url).json()\n",
    "    #results\n",
    "    \n",
    "    # assign relevant part of JSON to venues\n",
    "    venues = results['response']['venues']\n",
    "\n",
    "    if venues ==  []:\n",
    "        print('Break at i', i)\n",
    "        Ratings.append(0)\n",
    "    else:\n",
    "        # tranform venues into a dataframe\n",
    "        dataframe = json_normalize(venues)\n",
    "        dataframe.head()\n",
    "\n",
    "        # keep only columns that include venue name, and anything that is associated with location\n",
    "        filtered_columns = ['name', 'categories'] + [col for col in dataframe.columns if col.startswith('location.')] + ['id']\n",
    "        dataframe_filtered = dataframe.loc[:, filtered_columns]\n",
    "\n",
    "        # filter the category for each row\n",
    "        dataframe_filtered['categories'] = dataframe_filtered.apply(get_category_type, axis=1)\n",
    "\n",
    "        # clean column names by keeping only last term\n",
    "        dataframe_filtered.columns = [column.split('.')[-1] for column in dataframe_filtered.columns]\n",
    "\n",
    "        dataframe_filtered    \n",
    "        #print(dataframe_filtered)\n",
    "    \n",
    "        dataframe_filtered1 = dataframe_filtered[dataframe_filtered.categories != \"Office\"]\n",
    "        #dataframe_filtered1.id[0]\n",
    "        #print(dataframe_filtered1)\n",
    "    \n",
    "        RowCount = len(dataframe_filtered1.index)\n",
    "        #print('RowCount', RowCount)\n",
    "        \n",
    "        if RowCount == 0:\n",
    "            Ratings.append(0)\n",
    "        if RowCount > 0:\n",
    "            venue_id = dataframe_filtered1.loc[dataframe_filtered1.index[0]]['id']\n",
    "            try:\n",
    "                url = 'https://api.foursquare.com/v2/venues/{}?client_id={}&client_secret={}&v={}'.format(venue_id, CLIENT_ID, CLIENT_SECRET, VERSION)\n",
    "                result = requests.get(url).json()\n",
    "                #print(result)\n",
    "                \n",
    "                if result['response']['venue']['rating']!= []:\n",
    "                    Ratings.append(result['response']['venue']['rating'])\n",
    "                else:\n",
    "                    Ratings.append(0)\n",
    "            except:\n",
    "                Ratings.append(0)\n",
    "        #print(Ratings)\n"
   ]
  },
  {
   "cell_type": "markdown",
   "metadata": {
    "button": false,
    "deletable": true,
    "new_sheet": false,
    "run_control": {
     "read_only": false
    }
   },
   "source": [
    "#### Add rating values to the dataframe and save to the csv file"
   ]
  },
  {
   "cell_type": "code",
   "execution_count": 68,
   "metadata": {
    "button": false,
    "collapsed": false,
    "deletable": true,
    "jupyter": {
     "outputs_hidden": false
    },
    "new_sheet": false,
    "run_control": {
     "read_only": false
    },
    "scrolled": true
   },
   "outputs": [
    {
     "data": {
      "text/html": [
       "<div>\n",
       "<style scoped>\n",
       "    .dataframe tbody tr th:only-of-type {\n",
       "        vertical-align: middle;\n",
       "    }\n",
       "\n",
       "    .dataframe tbody tr th {\n",
       "        vertical-align: top;\n",
       "    }\n",
       "\n",
       "    .dataframe thead th {\n",
       "        text-align: right;\n",
       "    }\n",
       "</style>\n",
       "<table border=\"1\" class=\"dataframe\">\n",
       "  <thead>\n",
       "    <tr style=\"text-align: right;\">\n",
       "      <th></th>\n",
       "      <th>BORO</th>\n",
       "      <th>ZIPCODE</th>\n",
       "      <th>CUISINE DESCRIPTION</th>\n",
       "      <th>Critical Flag</th>\n",
       "      <th>Score</th>\n",
       "      <th>Latitude</th>\n",
       "      <th>Longitude</th>\n",
       "      <th>Ratings</th>\n",
       "    </tr>\n",
       "  </thead>\n",
       "  <tbody>\n",
       "    <tr>\n",
       "      <th>0</th>\n",
       "      <td>Manhattan</td>\n",
       "      <td>10001</td>\n",
       "      <td>Italian</td>\n",
       "      <td>1</td>\n",
       "      <td>38</td>\n",
       "      <td>40.748948</td>\n",
       "      <td>-73.995806</td>\n",
       "      <td>8.4</td>\n",
       "    </tr>\n",
       "    <tr>\n",
       "      <th>1</th>\n",
       "      <td>Manhattan</td>\n",
       "      <td>10002</td>\n",
       "      <td>Italian</td>\n",
       "      <td>1</td>\n",
       "      <td>27</td>\n",
       "      <td>40.716079</td>\n",
       "      <td>-73.987190</td>\n",
       "      <td>6.0</td>\n",
       "    </tr>\n",
       "    <tr>\n",
       "      <th>2</th>\n",
       "      <td>Manhattan</td>\n",
       "      <td>10002</td>\n",
       "      <td>Italian</td>\n",
       "      <td>0</td>\n",
       "      <td>38</td>\n",
       "      <td>40.721164</td>\n",
       "      <td>-73.983993</td>\n",
       "      <td>9.1</td>\n",
       "    </tr>\n",
       "    <tr>\n",
       "      <th>3</th>\n",
       "      <td>Manhattan</td>\n",
       "      <td>10002</td>\n",
       "      <td>Italian</td>\n",
       "      <td>0</td>\n",
       "      <td>23</td>\n",
       "      <td>40.716079</td>\n",
       "      <td>-73.987190</td>\n",
       "      <td>8.6</td>\n",
       "    </tr>\n",
       "    <tr>\n",
       "      <th>4</th>\n",
       "      <td>Manhattan</td>\n",
       "      <td>10002</td>\n",
       "      <td>Italian</td>\n",
       "      <td>0</td>\n",
       "      <td>37</td>\n",
       "      <td>40.720470</td>\n",
       "      <td>-73.989015</td>\n",
       "      <td>8.8</td>\n",
       "    </tr>\n",
       "  </tbody>\n",
       "</table>\n",
       "</div>"
      ],
      "text/plain": [
       "        BORO  ZIPCODE CUISINE DESCRIPTION  Critical Flag  Score   Latitude  \\\n",
       "0  Manhattan    10001             Italian              1     38  40.748948   \n",
       "1  Manhattan    10002             Italian              1     27  40.716079   \n",
       "2  Manhattan    10002             Italian              0     38  40.721164   \n",
       "3  Manhattan    10002             Italian              0     23  40.716079   \n",
       "4  Manhattan    10002             Italian              0     37  40.720470   \n",
       "\n",
       "   Longitude  Ratings  \n",
       "0 -73.995806      8.4  \n",
       "1 -73.987190      6.0  \n",
       "2 -73.983993      9.1  \n",
       "3 -73.987190      8.6  \n",
       "4 -73.989015      8.8  "
      ]
     },
     "execution_count": 68,
     "metadata": {},
     "output_type": "execute_result"
    }
   ],
   "source": [
    "#add Ratings to the dataframe and save to the csv file\n",
    "df['Ratings'] = Ratings\n",
    "df.to_csv(\"ResultsWitRatings.csv\", index=False)\n",
    "df.head()"
   ]
  },
  {
   "cell_type": "markdown",
   "metadata": {
    "button": false,
    "deletable": true,
    "jupyter": {
     "outputs_hidden": false
    },
    "new_sheet": false,
    "run_control": {
     "read_only": false
    }
   },
   "source": [
    "## 3. Model Using Logistic Regression"
   ]
  },
  {
   "cell_type": "code",
   "execution_count": 71,
   "metadata": {
    "button": false,
    "collapsed": false,
    "deletable": true,
    "jupyter": {
     "outputs_hidden": false
    },
    "new_sheet": false,
    "run_control": {
     "read_only": false
    },
    "scrolled": true
   },
   "outputs": [
    {
     "data": {
      "text/html": [
       "<div>\n",
       "<style scoped>\n",
       "    .dataframe tbody tr th:only-of-type {\n",
       "        vertical-align: middle;\n",
       "    }\n",
       "\n",
       "    .dataframe tbody tr th {\n",
       "        vertical-align: top;\n",
       "    }\n",
       "\n",
       "    .dataframe thead th {\n",
       "        text-align: right;\n",
       "    }\n",
       "</style>\n",
       "<table border=\"1\" class=\"dataframe\">\n",
       "  <thead>\n",
       "    <tr style=\"text-align: right;\">\n",
       "      <th></th>\n",
       "      <th>BORO</th>\n",
       "      <th>ZIPCODE</th>\n",
       "      <th>CUISINE DESCRIPTION</th>\n",
       "      <th>Critical Flag</th>\n",
       "      <th>Score</th>\n",
       "      <th>Latitude</th>\n",
       "      <th>Longitude</th>\n",
       "      <th>Ratings</th>\n",
       "    </tr>\n",
       "  </thead>\n",
       "  <tbody>\n",
       "    <tr>\n",
       "      <th>0</th>\n",
       "      <td>Manhattan</td>\n",
       "      <td>10001</td>\n",
       "      <td>Italian</td>\n",
       "      <td>1</td>\n",
       "      <td>38</td>\n",
       "      <td>40.748948</td>\n",
       "      <td>-73.995806</td>\n",
       "      <td>8.4</td>\n",
       "    </tr>\n",
       "    <tr>\n",
       "      <th>1</th>\n",
       "      <td>Manhattan</td>\n",
       "      <td>10002</td>\n",
       "      <td>Italian</td>\n",
       "      <td>1</td>\n",
       "      <td>27</td>\n",
       "      <td>40.716079</td>\n",
       "      <td>-73.987190</td>\n",
       "      <td>6.0</td>\n",
       "    </tr>\n",
       "    <tr>\n",
       "      <th>2</th>\n",
       "      <td>Manhattan</td>\n",
       "      <td>10002</td>\n",
       "      <td>Italian</td>\n",
       "      <td>0</td>\n",
       "      <td>38</td>\n",
       "      <td>40.721164</td>\n",
       "      <td>-73.983993</td>\n",
       "      <td>9.1</td>\n",
       "    </tr>\n",
       "    <tr>\n",
       "      <th>3</th>\n",
       "      <td>Manhattan</td>\n",
       "      <td>10002</td>\n",
       "      <td>Italian</td>\n",
       "      <td>0</td>\n",
       "      <td>23</td>\n",
       "      <td>40.716079</td>\n",
       "      <td>-73.987190</td>\n",
       "      <td>8.6</td>\n",
       "    </tr>\n",
       "    <tr>\n",
       "      <th>4</th>\n",
       "      <td>Manhattan</td>\n",
       "      <td>10002</td>\n",
       "      <td>Italian</td>\n",
       "      <td>0</td>\n",
       "      <td>37</td>\n",
       "      <td>40.720470</td>\n",
       "      <td>-73.989015</td>\n",
       "      <td>8.8</td>\n",
       "    </tr>\n",
       "  </tbody>\n",
       "</table>\n",
       "</div>"
      ],
      "text/plain": [
       "        BORO  ZIPCODE CUISINE DESCRIPTION  Critical Flag  Score   Latitude  \\\n",
       "0  Manhattan    10001             Italian              1     38  40.748948   \n",
       "1  Manhattan    10002             Italian              1     27  40.716079   \n",
       "2  Manhattan    10002             Italian              0     38  40.721164   \n",
       "3  Manhattan    10002             Italian              0     23  40.716079   \n",
       "4  Manhattan    10002             Italian              0     37  40.720470   \n",
       "\n",
       "   Longitude  Ratings  \n",
       "0 -73.995806      8.4  \n",
       "1 -73.987190      6.0  \n",
       "2 -73.983993      9.1  \n",
       "3 -73.987190      8.6  \n",
       "4 -73.989015      8.8  "
      ]
     },
     "execution_count": 71,
     "metadata": {},
     "output_type": "execute_result"
    }
   ],
   "source": [
    "df1 = pd.read_csv(\"ResultsWitRatings.csv\")\n",
    "df1.head()"
   ]
  },
  {
   "cell_type": "code",
   "execution_count": 73,
   "metadata": {
    "button": false,
    "collapsed": false,
    "deletable": true,
    "jupyter": {
     "outputs_hidden": false
    },
    "new_sheet": false,
    "run_control": {
     "read_only": false
    },
    "scrolled": true
   },
   "outputs": [
    {
     "data": {
      "text/html": [
       "<div>\n",
       "<style scoped>\n",
       "    .dataframe tbody tr th:only-of-type {\n",
       "        vertical-align: middle;\n",
       "    }\n",
       "\n",
       "    .dataframe tbody tr th {\n",
       "        vertical-align: top;\n",
       "    }\n",
       "\n",
       "    .dataframe thead th {\n",
       "        text-align: right;\n",
       "    }\n",
       "</style>\n",
       "<table border=\"1\" class=\"dataframe\">\n",
       "  <thead>\n",
       "    <tr style=\"text-align: right;\">\n",
       "      <th></th>\n",
       "      <th>BORO</th>\n",
       "      <th>ZIPCODE</th>\n",
       "      <th>CUISINE DESCRIPTION</th>\n",
       "      <th>Critical Flag</th>\n",
       "      <th>Score</th>\n",
       "      <th>Latitude</th>\n",
       "      <th>Longitude</th>\n",
       "      <th>Ratings</th>\n",
       "    </tr>\n",
       "  </thead>\n",
       "  <tbody>\n",
       "    <tr>\n",
       "      <th>0</th>\n",
       "      <td>Manhattan</td>\n",
       "      <td>10001</td>\n",
       "      <td>Italian</td>\n",
       "      <td>1</td>\n",
       "      <td>38</td>\n",
       "      <td>40.748948</td>\n",
       "      <td>-73.995806</td>\n",
       "      <td>8.4</td>\n",
       "    </tr>\n",
       "    <tr>\n",
       "      <th>1</th>\n",
       "      <td>Manhattan</td>\n",
       "      <td>10002</td>\n",
       "      <td>Italian</td>\n",
       "      <td>1</td>\n",
       "      <td>27</td>\n",
       "      <td>40.716079</td>\n",
       "      <td>-73.987190</td>\n",
       "      <td>6.0</td>\n",
       "    </tr>\n",
       "    <tr>\n",
       "      <th>2</th>\n",
       "      <td>Manhattan</td>\n",
       "      <td>10002</td>\n",
       "      <td>Italian</td>\n",
       "      <td>0</td>\n",
       "      <td>38</td>\n",
       "      <td>40.721164</td>\n",
       "      <td>-73.983993</td>\n",
       "      <td>9.1</td>\n",
       "    </tr>\n",
       "    <tr>\n",
       "      <th>3</th>\n",
       "      <td>Manhattan</td>\n",
       "      <td>10002</td>\n",
       "      <td>Italian</td>\n",
       "      <td>0</td>\n",
       "      <td>23</td>\n",
       "      <td>40.716079</td>\n",
       "      <td>-73.987190</td>\n",
       "      <td>8.6</td>\n",
       "    </tr>\n",
       "    <tr>\n",
       "      <th>4</th>\n",
       "      <td>Manhattan</td>\n",
       "      <td>10002</td>\n",
       "      <td>Italian</td>\n",
       "      <td>0</td>\n",
       "      <td>37</td>\n",
       "      <td>40.720470</td>\n",
       "      <td>-73.989015</td>\n",
       "      <td>8.8</td>\n",
       "    </tr>\n",
       "  </tbody>\n",
       "</table>\n",
       "</div>"
      ],
      "text/plain": [
       "        BORO  ZIPCODE CUISINE DESCRIPTION  Critical Flag  Score   Latitude  \\\n",
       "0  Manhattan    10001             Italian              1     38  40.748948   \n",
       "1  Manhattan    10002             Italian              1     27  40.716079   \n",
       "2  Manhattan    10002             Italian              0     38  40.721164   \n",
       "3  Manhattan    10002             Italian              0     23  40.716079   \n",
       "4  Manhattan    10002             Italian              0     37  40.720470   \n",
       "\n",
       "   Longitude  Ratings  \n",
       "0 -73.995806      8.4  \n",
       "1 -73.987190      6.0  \n",
       "2 -73.983993      9.1  \n",
       "3 -73.987190      8.6  \n",
       "4 -73.989015      8.8  "
      ]
     },
     "execution_count": 73,
     "metadata": {},
     "output_type": "execute_result"
    }
   ],
   "source": [
    "#Remove the records with Ratings = 0.0\n",
    "df1.drop(df1[df1['Ratings'] == 0].index, inplace= True)\n",
    "df1.head()"
   ]
  },
  {
   "cell_type": "code",
   "execution_count": 76,
   "metadata": {
    "button": false,
    "collapsed": false,
    "deletable": true,
    "jupyter": {
     "outputs_hidden": false
    },
    "new_sheet": false,
    "run_control": {
     "read_only": false
    },
    "scrolled": true
   },
   "outputs": [
    {
     "data": {
      "text/html": [
       "<div>\n",
       "<style scoped>\n",
       "    .dataframe tbody tr th:only-of-type {\n",
       "        vertical-align: middle;\n",
       "    }\n",
       "\n",
       "    .dataframe tbody tr th {\n",
       "        vertical-align: top;\n",
       "    }\n",
       "\n",
       "    .dataframe thead th {\n",
       "        text-align: right;\n",
       "    }\n",
       "</style>\n",
       "<table border=\"1\" class=\"dataframe\">\n",
       "  <thead>\n",
       "    <tr style=\"text-align: right;\">\n",
       "      <th></th>\n",
       "      <th>Score</th>\n",
       "      <th>Ratings</th>\n",
       "    </tr>\n",
       "  </thead>\n",
       "  <tbody>\n",
       "    <tr>\n",
       "      <th>0</th>\n",
       "      <td>38</td>\n",
       "      <td>8.4</td>\n",
       "    </tr>\n",
       "    <tr>\n",
       "      <th>1</th>\n",
       "      <td>27</td>\n",
       "      <td>6.0</td>\n",
       "    </tr>\n",
       "    <tr>\n",
       "      <th>2</th>\n",
       "      <td>38</td>\n",
       "      <td>9.1</td>\n",
       "    </tr>\n",
       "    <tr>\n",
       "      <th>3</th>\n",
       "      <td>23</td>\n",
       "      <td>8.6</td>\n",
       "    </tr>\n",
       "    <tr>\n",
       "      <th>4</th>\n",
       "      <td>37</td>\n",
       "      <td>8.8</td>\n",
       "    </tr>\n",
       "  </tbody>\n",
       "</table>\n",
       "</div>"
      ],
      "text/plain": [
       "   Score  Ratings\n",
       "0     38      8.4\n",
       "1     27      6.0\n",
       "2     38      9.1\n",
       "3     23      8.6\n",
       "4     37      8.8"
      ]
     },
     "execution_count": 76,
     "metadata": {},
     "output_type": "execute_result"
    }
   ],
   "source": [
    "feature = df1[['Score','Ratings']]\n",
    "feature.head()"
   ]
  },
  {
   "cell_type": "code",
   "execution_count": 78,
   "metadata": {
    "button": false,
    "collapsed": false,
    "deletable": true,
    "jupyter": {
     "outputs_hidden": false
    },
    "new_sheet": false,
    "run_control": {
     "read_only": false
    },
    "scrolled": true
   },
   "outputs": [
    {
     "name": "stderr",
     "output_type": "stream",
     "text": [
      "/home/jupyterlab/conda/envs/python/lib/python3.6/site-packages/sklearn/preprocessing/data.py:625: DataConversionWarning: Data with input dtype int64, float64 were all converted to float64 by StandardScaler.\n",
      "  return self.partial_fit(X, y)\n",
      "/home/jupyterlab/conda/envs/python/lib/python3.6/site-packages/ipykernel_launcher.py:7: DataConversionWarning: Data with input dtype int64, float64 were all converted to float64 by StandardScaler.\n",
      "  import sys\n"
     ]
    }
   ],
   "source": [
    "#Feature selections\n",
    "X=feature\n",
    "y=df1['Critical Flag'].values\n",
    "\n",
    "#Preprocessing the data\n",
    "from sklearn import preprocessing\n",
    "X= preprocessing.StandardScaler().fit(X).transform(X)\n"
   ]
  },
  {
   "cell_type": "code",
   "execution_count": 94,
   "metadata": {
    "button": false,
    "collapsed": false,
    "deletable": true,
    "jupyter": {
     "outputs_hidden": false
    },
    "new_sheet": false,
    "run_control": {
     "read_only": false
    },
    "scrolled": true
   },
   "outputs": [
    {
     "data": {
      "text/plain": [
       "LogisticRegression(C=0.01, class_weight=None, dual=False, fit_intercept=True,\n",
       "          intercept_scaling=1, max_iter=100, multi_class='warn',\n",
       "          n_jobs=None, penalty='l2', random_state=None, solver='liblinear',\n",
       "          tol=0.0001, verbose=0, warm_start=False)"
      ]
     },
     "execution_count": 94,
     "metadata": {},
     "output_type": "execute_result"
    }
   ],
   "source": [
    "from sklearn.model_selection import train_test_split\n",
    "from sklearn.linear_model import LogisticRegression\n",
    "from sklearn.metrics import confusion_matrix\n",
    "\n",
    "X_train, X_test, y_train, y_test = train_test_split( X, y, test_size=0.15, random_state=4)\n",
    "#Create logistic regression object\n",
    "LR = LogisticRegression(C=0.01, solver='liblinear').fit(X_train,y_train)\n",
    "LR"
   ]
  },
  {
   "cell_type": "markdown",
   "metadata": {
    "button": false,
    "deletable": true,
    "jupyter": {
     "outputs_hidden": false
    },
    "new_sheet": false,
    "run_control": {
     "read_only": false
    }
   },
   "source": [
    "## 4. Evaluation Results"
   ]
  },
  {
   "cell_type": "code",
   "execution_count": 101,
   "metadata": {
    "button": false,
    "collapsed": false,
    "deletable": true,
    "jupyter": {
     "outputs_hidden": false
    },
    "new_sheet": false,
    "run_control": {
     "read_only": false
    },
    "scrolled": true
   },
   "outputs": [
    {
     "name": "stdout",
     "output_type": "stream",
     "text": [
      "Critical Flag LR Model's Accuracy:  0.7142857142857143\n",
      "Critical Flag LR Model's F1-score:  0.7142857142857143\n",
      "Critical Flag LR Model's Log Loss:  0.6879167051612881\n"
     ]
    }
   ],
   "source": [
    "from sklearn import metrics\n",
    "from sklearn.metrics import f1_score\n",
    "from sklearn.metrics import log_loss\n",
    "yhat_LR = LR.predict(X_test)\n",
    "print(\"Critical Flag LR Model's Accuracy: \", metrics.accuracy_score(y_test, yhat_LR))\n",
    "print(\"Critical Flag LR Model's F1-score: \", f1_score(y_test, yhat_LR, average='weighted')) \n",
    "yhat_LRprob = LR.predict_proba(X_test)\n",
    "print(\"Critical Flag LR Model's Log Loss: \", log_loss(y_test, yhat_LRprob)) "
   ]
  },
  {
   "cell_type": "markdown",
   "metadata": {
    "button": false,
    "deletable": true,
    "new_sheet": false,
    "run_control": {
     "read_only": false
    }
   },
   "source": [
    "<a id=\"item2\"></a>"
   ]
  },
  {
   "cell_type": "markdown",
   "metadata": {
    "button": false,
    "deletable": true,
    "new_sheet": false,
    "run_control": {
     "read_only": false
    }
   },
   "source": [
    "   "
   ]
  },
  {
   "cell_type": "markdown",
   "metadata": {
    "button": false,
    "deletable": true,
    "new_sheet": false,
    "run_control": {
     "read_only": false
    }
   },
   "source": [
    "### Thank You for Reviewing My Work!"
   ]
  }
 ],
 "metadata": {
  "kernelspec": {
   "display_name": "Python",
   "language": "python",
   "name": "conda-env-python-py"
  },
  "language_info": {
   "codemirror_mode": {
    "name": "ipython",
    "version": 3
   },
   "file_extension": ".py",
   "mimetype": "text/x-python",
   "name": "python",
   "nbconvert_exporter": "python",
   "pygments_lexer": "ipython3",
   "version": "3.6.10"
  },
  "widgets": {
   "state": {},
   "version": "1.1.2"
  }
 },
 "nbformat": 4,
 "nbformat_minor": 4
}
